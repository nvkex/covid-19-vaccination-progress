{
 "cells": [
  {
   "cell_type": "markdown",
   "metadata": {},
   "source": [
    "# COVID-19 World Vaccination Progress"
   ]
  },
  {
   "cell_type": "markdown",
   "metadata": {},
   "source": [
    "## Context\n",
    "Data is collected daily from Our World in Data GitHub repository for covid-19, merged and uploaded.\n",
    "\n",
    "## Content\n",
    "The data contains the following information:\n",
    "\n",
    "**Country**- this is the country for which the vaccination information is provided;<br/>\n",
    "**Country ISO Code** - ISO code for the country;<br/>\n",
    "**Date** - date for the data entry; for some of the dates we have only the daily vaccinations, for others, only the (cumulative) total;<br/>\n",
    "**Total number of vaccinations** - this is the absolute number of total immunizations in the country;<br/>\n",
    "**Total number of people vaccinated** - a person, depending on the immunization scheme, will receive one or more (typically 2) vaccines; at a certain moment, the number of vaccination might be larger than the number of people;<br/>\n",
    "**Total number of people fully vaccinated** - this is the number of people that received the entire set of immunization according to the immunization scheme (typically 2); at a certain moment in time, there might be a certain number of people that received one vaccine and another number (smaller) of people that received all vaccines in the scheme;<br/>\n",
    "**Daily vaccinations (raw)** - for a certain data entry, the number of vaccination for that date/country;<br/>\n",
    "**Daily vaccinations** - for a certain data entry, the number of vaccination for that date/country;<br/>\n",
    "**Total vaccinations per hundred** - ratio (in percent) between vaccination number and total population up to the date in the country;<br/>\n",
    "**Total number of people vaccinated per hundred** - ratio (in percent) between population immunized and total population up to the date in the country;<br/>\n",
    "**Total number of people fully vaccinated per hundred** - ratio (in percent) between population fully immunized and total population up to the date in the country;<br/>\n",
    "**Number of vaccinations per day** - number of daily vaccination for that day and country;<br/>\n",
    "**Daily vaccinations per million** - ratio (in ppm) between vaccination number and total population for the current date in the country;<br/>\n",
    "**Vaccines used in the country** - total number of vaccines used in the country (up to date);<br/>\n",
    "**Source name** - source of the information (national authority, international organization, local organization etc.);<br/>\n",
    "**Source website** - website of the source of information;"
   ]
  },
  {
   "cell_type": "code",
   "execution_count": 14,
   "metadata": {},
   "outputs": [],
   "source": [
    "import pandas as pd\n",
    "import matplotlib.pyplot as plt\n",
    "import numpy as np"
   ]
  },
  {
   "cell_type": "code",
   "execution_count": 15,
   "metadata": {},
   "outputs": [],
   "source": [
    "data = pd.read_csv('Datasets\\country_vaccinations.csv')"
   ]
  },
  {
   "cell_type": "code",
   "execution_count": 16,
   "metadata": {},
   "outputs": [
    {
     "data": {
      "text/html": [
       "<div>\n",
       "<style scoped>\n",
       "    .dataframe tbody tr th:only-of-type {\n",
       "        vertical-align: middle;\n",
       "    }\n",
       "\n",
       "    .dataframe tbody tr th {\n",
       "        vertical-align: top;\n",
       "    }\n",
       "\n",
       "    .dataframe thead th {\n",
       "        text-align: right;\n",
       "    }\n",
       "</style>\n",
       "<table border=\"1\" class=\"dataframe\">\n",
       "  <thead>\n",
       "    <tr style=\"text-align: right;\">\n",
       "      <th></th>\n",
       "      <th>country</th>\n",
       "      <th>iso_code</th>\n",
       "      <th>date</th>\n",
       "      <th>total_vaccinations</th>\n",
       "      <th>people_vaccinated</th>\n",
       "      <th>people_fully_vaccinated</th>\n",
       "      <th>daily_vaccinations_raw</th>\n",
       "      <th>daily_vaccinations</th>\n",
       "      <th>total_vaccinations_per_hundred</th>\n",
       "      <th>people_vaccinated_per_hundred</th>\n",
       "      <th>people_fully_vaccinated_per_hundred</th>\n",
       "      <th>daily_vaccinations_per_million</th>\n",
       "      <th>vaccines</th>\n",
       "      <th>source_name</th>\n",
       "      <th>source_website</th>\n",
       "    </tr>\n",
       "  </thead>\n",
       "  <tbody>\n",
       "    <tr>\n",
       "      <th>0</th>\n",
       "      <td>Argentina</td>\n",
       "      <td>ARG</td>\n",
       "      <td>2020-12-29</td>\n",
       "      <td>700.0</td>\n",
       "      <td>NaN</td>\n",
       "      <td>NaN</td>\n",
       "      <td>NaN</td>\n",
       "      <td>NaN</td>\n",
       "      <td>0.00</td>\n",
       "      <td>NaN</td>\n",
       "      <td>NaN</td>\n",
       "      <td>NaN</td>\n",
       "      <td>Sputnik V</td>\n",
       "      <td>Ministry of Health</td>\n",
       "      <td>http://datos.salud.gob.ar/dataset/vacunas-cont...</td>\n",
       "    </tr>\n",
       "    <tr>\n",
       "      <th>1</th>\n",
       "      <td>Argentina</td>\n",
       "      <td>ARG</td>\n",
       "      <td>2020-12-30</td>\n",
       "      <td>NaN</td>\n",
       "      <td>NaN</td>\n",
       "      <td>NaN</td>\n",
       "      <td>NaN</td>\n",
       "      <td>15656.0</td>\n",
       "      <td>NaN</td>\n",
       "      <td>NaN</td>\n",
       "      <td>NaN</td>\n",
       "      <td>346.0</td>\n",
       "      <td>Sputnik V</td>\n",
       "      <td>Ministry of Health</td>\n",
       "      <td>http://datos.salud.gob.ar/dataset/vacunas-cont...</td>\n",
       "    </tr>\n",
       "    <tr>\n",
       "      <th>2</th>\n",
       "      <td>Argentina</td>\n",
       "      <td>ARG</td>\n",
       "      <td>2020-12-31</td>\n",
       "      <td>32013.0</td>\n",
       "      <td>NaN</td>\n",
       "      <td>NaN</td>\n",
       "      <td>NaN</td>\n",
       "      <td>15656.0</td>\n",
       "      <td>0.07</td>\n",
       "      <td>NaN</td>\n",
       "      <td>NaN</td>\n",
       "      <td>346.0</td>\n",
       "      <td>Sputnik V</td>\n",
       "      <td>Ministry of Health</td>\n",
       "      <td>http://datos.salud.gob.ar/dataset/vacunas-cont...</td>\n",
       "    </tr>\n",
       "    <tr>\n",
       "      <th>3</th>\n",
       "      <td>Argentina</td>\n",
       "      <td>ARG</td>\n",
       "      <td>2021-01-01</td>\n",
       "      <td>NaN</td>\n",
       "      <td>NaN</td>\n",
       "      <td>NaN</td>\n",
       "      <td>NaN</td>\n",
       "      <td>11070.0</td>\n",
       "      <td>NaN</td>\n",
       "      <td>NaN</td>\n",
       "      <td>NaN</td>\n",
       "      <td>245.0</td>\n",
       "      <td>Sputnik V</td>\n",
       "      <td>Ministry of Health</td>\n",
       "      <td>http://datos.salud.gob.ar/dataset/vacunas-cont...</td>\n",
       "    </tr>\n",
       "    <tr>\n",
       "      <th>4</th>\n",
       "      <td>Argentina</td>\n",
       "      <td>ARG</td>\n",
       "      <td>2021-01-02</td>\n",
       "      <td>NaN</td>\n",
       "      <td>NaN</td>\n",
       "      <td>NaN</td>\n",
       "      <td>NaN</td>\n",
       "      <td>8776.0</td>\n",
       "      <td>NaN</td>\n",
       "      <td>NaN</td>\n",
       "      <td>NaN</td>\n",
       "      <td>194.0</td>\n",
       "      <td>Sputnik V</td>\n",
       "      <td>Ministry of Health</td>\n",
       "      <td>http://datos.salud.gob.ar/dataset/vacunas-cont...</td>\n",
       "    </tr>\n",
       "  </tbody>\n",
       "</table>\n",
       "</div>"
      ],
      "text/plain": [
       "     country iso_code        date  total_vaccinations  people_vaccinated  \\\n",
       "0  Argentina      ARG  2020-12-29               700.0                NaN   \n",
       "1  Argentina      ARG  2020-12-30                 NaN                NaN   \n",
       "2  Argentina      ARG  2020-12-31             32013.0                NaN   \n",
       "3  Argentina      ARG  2021-01-01                 NaN                NaN   \n",
       "4  Argentina      ARG  2021-01-02                 NaN                NaN   \n",
       "\n",
       "   people_fully_vaccinated  daily_vaccinations_raw  daily_vaccinations  \\\n",
       "0                      NaN                     NaN                 NaN   \n",
       "1                      NaN                     NaN             15656.0   \n",
       "2                      NaN                     NaN             15656.0   \n",
       "3                      NaN                     NaN             11070.0   \n",
       "4                      NaN                     NaN              8776.0   \n",
       "\n",
       "   total_vaccinations_per_hundred  people_vaccinated_per_hundred  \\\n",
       "0                            0.00                            NaN   \n",
       "1                             NaN                            NaN   \n",
       "2                            0.07                            NaN   \n",
       "3                             NaN                            NaN   \n",
       "4                             NaN                            NaN   \n",
       "\n",
       "   people_fully_vaccinated_per_hundred  daily_vaccinations_per_million  \\\n",
       "0                                  NaN                             NaN   \n",
       "1                                  NaN                           346.0   \n",
       "2                                  NaN                           346.0   \n",
       "3                                  NaN                           245.0   \n",
       "4                                  NaN                           194.0   \n",
       "\n",
       "    vaccines         source_name  \\\n",
       "0  Sputnik V  Ministry of Health   \n",
       "1  Sputnik V  Ministry of Health   \n",
       "2  Sputnik V  Ministry of Health   \n",
       "3  Sputnik V  Ministry of Health   \n",
       "4  Sputnik V  Ministry of Health   \n",
       "\n",
       "                                      source_website  \n",
       "0  http://datos.salud.gob.ar/dataset/vacunas-cont...  \n",
       "1  http://datos.salud.gob.ar/dataset/vacunas-cont...  \n",
       "2  http://datos.salud.gob.ar/dataset/vacunas-cont...  \n",
       "3  http://datos.salud.gob.ar/dataset/vacunas-cont...  \n",
       "4  http://datos.salud.gob.ar/dataset/vacunas-cont...  "
      ]
     },
     "execution_count": 16,
     "metadata": {},
     "output_type": "execute_result"
    }
   ],
   "source": [
    "data.head()"
   ]
  },
  {
   "cell_type": "code",
   "execution_count": 17,
   "metadata": {},
   "outputs": [
    {
     "name": "stdout",
     "output_type": "stream",
     "text": [
      "<class 'pandas.core.frame.DataFrame'>\n",
      "RangeIndex: 1267 entries, 0 to 1266\n",
      "Data columns (total 15 columns):\n",
      " #   Column                               Non-Null Count  Dtype  \n",
      "---  ------                               --------------  -----  \n",
      " 0   country                              1267 non-null   object \n",
      " 1   iso_code                             1118 non-null   object \n",
      " 2   date                                 1267 non-null   object \n",
      " 3   total_vaccinations                   825 non-null    float64\n",
      " 4   people_vaccinated                    794 non-null    float64\n",
      " 5   people_fully_vaccinated              167 non-null    float64\n",
      " 6   daily_vaccinations_raw               655 non-null    float64\n",
      " 7   daily_vaccinations                   1210 non-null   float64\n",
      " 8   total_vaccinations_per_hundred       825 non-null    float64\n",
      " 9   people_vaccinated_per_hundred        794 non-null    float64\n",
      " 10  people_fully_vaccinated_per_hundred  167 non-null    float64\n",
      " 11  daily_vaccinations_per_million       1210 non-null   float64\n",
      " 12  vaccines                             1267 non-null   object \n",
      " 13  source_name                          1267 non-null   object \n",
      " 14  source_website                       1267 non-null   object \n",
      "dtypes: float64(9), object(6)\n",
      "memory usage: 148.6+ KB\n"
     ]
    }
   ],
   "source": [
    "data.info()"
   ]
  },
  {
   "cell_type": "code",
   "execution_count": 18,
   "metadata": {},
   "outputs": [
    {
     "data": {
      "text/plain": [
       "country                                   0\n",
       "iso_code                                149\n",
       "date                                      0\n",
       "total_vaccinations                      442\n",
       "people_vaccinated                       473\n",
       "people_fully_vaccinated                1100\n",
       "daily_vaccinations_raw                  612\n",
       "daily_vaccinations                       57\n",
       "total_vaccinations_per_hundred          442\n",
       "people_vaccinated_per_hundred           473\n",
       "people_fully_vaccinated_per_hundred    1100\n",
       "daily_vaccinations_per_million           57\n",
       "vaccines                                  0\n",
       "source_name                               0\n",
       "source_website                            0\n",
       "dtype: int64"
      ]
     },
     "execution_count": 18,
     "metadata": {},
     "output_type": "execute_result"
    }
   ],
   "source": [
    "data.isnull().sum()"
   ]
  },
  {
   "cell_type": "code",
   "execution_count": 19,
   "metadata": {},
   "outputs": [],
   "source": [
    "data.dropna(subset = ['total_vaccinations', 'vaccines', 'daily_vaccinations', 'people_vaccinated_per_hundred'], inplace = True)"
   ]
  },
  {
   "cell_type": "code",
   "execution_count": 32,
   "metadata": {},
   "outputs": [],
   "source": [
    "dates = data.date.unique()\n",
    "dates.sort()"
   ]
  },
  {
   "cell_type": "code",
   "execution_count": null,
   "metadata": {},
   "outputs": [],
   "source": [
    "for "
   ]
  }
 ],
 "metadata": {
  "kernelspec": {
   "display_name": "Python 3",
   "language": "python",
   "name": "python3"
  },
  "language_info": {
   "codemirror_mode": {
    "name": "ipython",
    "version": 3
   },
   "file_extension": ".py",
   "mimetype": "text/x-python",
   "name": "python",
   "nbconvert_exporter": "python",
   "pygments_lexer": "ipython3",
   "version": "3.8.5"
  }
 },
 "nbformat": 4,
 "nbformat_minor": 4
}
